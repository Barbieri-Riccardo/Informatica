{
  "nbformat": 4,
  "nbformat_minor": 0,
  "metadata": {
    "colab": {
      "name": "RipassoFunzioni.ipynb",
      "provenance": []
    },
    "kernelspec": {
      "name": "python3",
      "display_name": "Python 3"
    },
    "language_info": {
      "name": "python"
    }
  },
  "cells": [
    {
      "cell_type": "markdown",
      "metadata": {
        "id": "jpM4XBJy96Ka"
      },
      "source": [
        "ES 1: scrivere una funzione chiamata max che dati due numeri restituisca il più grande. Scrivere poi un programma che, utilizzando la funzione creata, trovi il massimo tra tre numeri inseriti dall'utente. "
      ]
    },
    {
      "cell_type": "code",
      "metadata": {
        "id": "3HTniKa89q6Z"
      },
      "source": [
        "def max(x,y):\n",
        "  if x > y:\n",
        "    return x\n",
        "  else:\n",
        "    return y\n",
        "n,n1,n2=int(input()), int(input()), int(input())\n",
        "print(max(n1,max(n,n2)))\n"
      ],
      "execution_count": null,
      "outputs": []
    },
    {
      "cell_type": "markdown",
      "metadata": {
        "id": "tvrCiqq0BhdS"
      },
      "source": [
        "ES 2:  scrivere una funzione chiamata sommaLista che data una lista di interi restituisca la somma di tutti gli elementi della lista. Scrivere poi un programma che, utilizzando la funzione create, trovi la somma degli elementi di una lista inserita dall'utente. "
      ]
    },
    {
      "cell_type": "code",
      "metadata": {
        "id": "k7fNk3lNBmvy"
      },
      "source": [
        "def sommaLista(lista):  \n",
        "  return sum(lista)\n",
        "lst1 = [int(n) for n in input().split()]\n",
        "print(sommaLista(lst1))"
      ],
      "execution_count": null,
      "outputs": []
    },
    {
      "cell_type": "markdown",
      "metadata": {
        "id": "16KPXFpCFJiz"
      },
      "source": [
        "ES 3: utilizzando le funzioni create precedentemente, scrivere un programma che permetta all'utente di inserire tre liste e di avere il valore massimo della somma degli elementi delle tre liste."
      ]
    },
    {
      "cell_type": "code",
      "metadata": {
        "id": "4QdgVNY9FNLi"
      },
      "source": [
        "lst, lst1, lst2 = [int(n) for n in input().split()], [int(n) for n in input().split()], [int(n) for n in input().split()]\n",
        "print(max(sommaLista(lst),max(sommaLista(lst1, lst2))))"
      ],
      "execution_count": null,
      "outputs": []
    },
    {
      "cell_type": "markdown",
      "metadata": {
        "id": "RnO-wwoIK_F0"
      },
      "source": [
        "ES 4: scrivere una funzione chiamata controlla che dato un numero e due estremi restituisca True se il numero è compreso tra i due estremi, false altrimenti. Utilizzare poi la funzione per trovare il numero di elementi di una lista di numeri interi (inserita dall'utente) compresi tra due estremi (inseriti anch'essi dall'utente)"
      ]
    },
    {
      "cell_type": "code",
      "metadata": {
        "id": "7JQmJ2yHLCh1"
      },
      "source": [
        "def controlla(x,y,z):\n",
        "  if z > x and z < y:\n",
        "    return True\n",
        "  else:\n",
        "    return False\n",
        "n, n1, n2 = int(input(\"inserire il primo estremo: \")), int(input(\"inserire il secondo estremo: \")), int(input(\"inserire numero: \"))\n",
        "print(controlla(n,n1,n2))"
      ],
      "execution_count": null,
      "outputs": []
    },
    {
      "cell_type": "markdown",
      "metadata": {
        "id": "eSJXo4J7Ss5v"
      },
      "source": [
        "ES 5: utilizzare la funzione controlla creata precedentemente per scrivere un programma che, data una lista di numeri interi inserita  dall'utente, carichi in un'altra lista i numeri compresi tra due estremi inseriti anch'essi dall'utente."
      ]
    },
    {
      "cell_type": "code",
      "metadata": {
        "id": "HsdCpThYSweg"
      },
      "source": [
        "lst = [int(n) for n in input().split()]\n",
        "lst1 = []\n",
        "n, n1 = int(input(\"inserire il primo estremo: \")), int(input(\"inserire il secondo estremo: \"))\n",
        "for i in lst:\n",
        "  if controlla == True:\n",
        "    lst1[i] = lst[i]\n",
        "print(lst1)"
      ],
      "execution_count": null,
      "outputs": []
    },
    {
      "cell_type": "markdown",
      "metadata": {
        "id": "trHalijct3ed"
      },
      "source": [
        "ES 6: scrivere una funzione chiamata confrontaListe che date due liste restituisca True se le due liste sono uguali, False altrimenti. Utilizzare poi la funzione in un programma che dica se una lista di interi è palindroma, cioè se può essere letta indifferentemente da sinistra a destra e da destra a sinistra. Ad esempio la lista [1, 2, 3, 4, 3, 2, 1] è palindroma, la lista [1, 2, 3, 4, 3,1, 2] non lo è."
      ]
    },
    {
      "cell_type": "code",
      "metadata": {
        "id": "5i1N8oWCt5ew"
      },
      "source": [
        "def confrontaListe(lst,lst1):\n",
        "  for i in range(len(lst)):\n",
        "    if lst[i] != lst1[i]:\n",
        "      return False\n",
        "    else:\n",
        "      return True\n",
        "lista1 = [0,1,2]\n",
        "lista2 = [0,1,3]\n",
        "print(confrontaListe(lista1,lista2))"
      ],
      "execution_count": null,
      "outputs": []
    },
    {
      "cell_type": "markdown",
      "metadata": {
        "id": "pz0Lv7CwQ3Su"
      },
      "source": [
        "ES 7: scrivere una funzione chiamata celsiusToFahrenheit che data una temperatura in gradi Celsius restituisca il valore convertito in gradi Fahrenheit (per ulteriori info, google it). Scrivere poi un programma che data una lista di temperature in gradi Celsius,inserita dall'utente, converta tutte le temperature in gradi Fahrenheit."
      ]
    },
    {
      "cell_type": "code",
      "metadata": {
        "id": "Doao4yruQ7u1"
      },
      "source": [
        "def celsiustoFahreneit(x):\n",
        "  return"
      ],
      "execution_count": null,
      "outputs": []
    }
  ]
}