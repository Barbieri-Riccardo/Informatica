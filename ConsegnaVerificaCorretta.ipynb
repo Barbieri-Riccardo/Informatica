{
  "nbformat": 4,
  "nbformat_minor": 0,
  "metadata": {
    "colab": {
      "name": "ConsegnaVerificaCorretta.ipynb",
      "provenance": []
    },
    "kernelspec": {
      "name": "python3",
      "display_name": "Python 3"
    },
    "language_info": {
      "name": "python"
    }
  },
  "cells": [
    {
      "cell_type": "markdown",
      "metadata": {
        "id": "AzP40BGagxve"
      },
      "source": [
        "ESERCIZIO 1"
      ]
    },
    {
      "cell_type": "code",
      "metadata": {
        "id": "5Chkq00YcN4h"
      },
      "source": [
        "# inizializziamo le variabili\n",
        "x = int(input(\"Inserisci il valora alla variabile: \"))\n",
        "y = int(input(\"Inserisci il valora alla variabile: \"))\n",
        "z = int(input(\"Inserisci il valora alla variabile: \"))\n",
        "\n",
        "# creiamo la variabile \"media\" e  le diamo il valore\n",
        "media = (x + y + z) / 3\n",
        "\n",
        "# stampiamo il calcolo precedente\n",
        "print(media)"
      ],
      "execution_count": null,
      "outputs": []
    },
    {
      "cell_type": "markdown",
      "metadata": {
        "id": "cSDt8bmdg1D5"
      },
      "source": [
        "ESERCIZIO 2"
      ]
    },
    {
      "cell_type": "code",
      "metadata": {
        "id": "mFa_jx6kdhRh"
      },
      "source": [
        "# importiamo la libreria math, ci permetterà di inserire il pgreco\n",
        "import math\n",
        "\n",
        "# facciamo inserire all'utente il raggio\n",
        "raggio = int(input(\"inserire raggio: \"))\n",
        "\n",
        "# creiamo la variabile \"area\" e la calcoliamo\n",
        "area = raggio ** 2 * math.pi\n",
        "\n",
        "# stampiamo il calcolo precedente\n",
        "# con il metodo round decidiamo però quante cifre decimali stampare\n",
        "print(round(area,2))"
      ],
      "execution_count": null,
      "outputs": []
    },
    {
      "cell_type": "markdown",
      "metadata": {
        "id": "SJzv_3Nfg5rh"
      },
      "source": [
        "ESERCIZIO 3"
      ]
    },
    {
      "cell_type": "code",
      "metadata": {
        "id": "EkpDZg_hfTCM"
      },
      "source": [
        "# inizializziamo le variabili\n",
        "n = input(\"inserire nome: \")\n",
        "c = input(\"inserire cognome: \")\n",
        "\n",
        "# tramite il metodo \"capitalize\" mettiamo maiuscole le prime lettere \n",
        "n = n.capitalize()\n",
        "c = c.capitalize()\n",
        "\n",
        "# stampiamo le variabili\n",
        "print(n + \" \" + c)"
      ],
      "execution_count": null,
      "outputs": []
    },
    {
      "cell_type": "markdown",
      "metadata": {
        "id": "bzF4fl7Xg7qo"
      },
      "source": [
        "ESERCIZIO 4"
      ]
    },
    {
      "cell_type": "code",
      "metadata": {
        "id": "C47ji3YJd3Yv"
      },
      "source": [
        "# inizializziamo la variabile\n",
        "frase = input(\"inserisci una frase: \")\n",
        "\n",
        "# con il metodo \"split\" creiamo una lista\n",
        "listaParole = frase.split()\n",
        "\n",
        "# stampiamo la lunghezza della lista grazie al metodo \"len\"\n",
        "print(len(listaParole))\n"
      ],
      "execution_count": null,
      "outputs": []
    },
    {
      "cell_type": "markdown",
      "metadata": {
        "id": "398qOAUDg-Dv"
      },
      "source": [
        "ESERCIZIO 5"
      ]
    },
    {
      "cell_type": "code",
      "metadata": {
        "id": "m6wHRL5Teayc"
      },
      "source": [
        "# inizializziamo la variabile\n",
        "frase = input(\"inserisci una frase: \")\n",
        "\n",
        "# con il metodo \"split\" creiamo una lista\n",
        "listaParole = frase.split()\n",
        "\n",
        "# con il metodo \"sort\" ordiniamo la lista in ordine alfabetico\n",
        "listaParole.sort()\n",
        "\n",
        "# stampiamo la lista ordinata alfabeticamente\n",
        "print(listaParole)"
      ],
      "execution_count": null,
      "outputs": []
    },
    {
      "cell_type": "markdown",
      "metadata": {
        "id": "01B6q_wFg_8J"
      },
      "source": [
        "ESERCIZIO 6"
      ]
    },
    {
      "cell_type": "code",
      "metadata": {
        "id": "1tAZ6LdXexaa"
      },
      "source": [
        "# inizializziamo la variabile\n",
        "frase = input(\"Data una frase visualizzare le ultime tre parole\")\n",
        "\n",
        "# con il metodo \"split\" creiamo una lista\n",
        "listaParole = frase.split()\n",
        "\n",
        "# stampiamo la lista \n",
        "# grazie a \"-3:\" stampiamo solo le ultime tre\n",
        "print(listaParole[-3:])"
      ],
      "execution_count": null,
      "outputs": []
    },
    {
      "cell_type": "markdown",
      "metadata": {
        "id": "Wvmto7ZGhCL6"
      },
      "source": [
        "ESERCIZIO 7"
      ]
    },
    {
      "cell_type": "code",
      "metadata": {
        "id": "POxuEIwoe66x"
      },
      "source": [
        "# inizializziamo la variabile\n",
        "frase = input(\"inserisci una frase: \")\n",
        "\n",
        "# con il metodo \"split\" creiamo una lista\n",
        "listaParole = frase.split()\n",
        "\n",
        "# con il metodo len verifichiamo quanto sia lunga la frase/lista\n",
        "# e stampiamo differenti frasi in base alla lunghezza di questa\n",
        "if len(listaParole) <= 5:\n",
        "  print(\"troppo corta.\")\n",
        "elif len(listaParole) >= 10:\n",
        "  print(\"troppo lunga\")\n",
        "else: \n",
        "  print(\"ok\")"
      ],
      "execution_count": null,
      "outputs": []
    },
    {
      "cell_type": "markdown",
      "metadata": {
        "id": "cuH5Qy59hEDq"
      },
      "source": [
        "ESERCIZIO 8\n"
      ]
    },
    {
      "cell_type": "code",
      "metadata": {
        "id": "Id6vD5H_fBIF"
      },
      "source": [
        "# importiamo la libreria statistics\n",
        "import statistics\n",
        "\n",
        "#inizializziamo una lista\n",
        "array = []\n",
        "\n",
        "# tramite il ciclo for inseriamo 10 numeri\n",
        "for i in range(0, 10):\n",
        "  numeri = int(input())\n",
        "\n",
        "  #inseriamo i numeri nella lista\n",
        "  array.append(numeri)\n",
        "\n",
        "# facciamo la media dei numeri inseriti\n",
        "media = statistics.mean(array)\n",
        "\n",
        "# stampiamo la media\n",
        "print(media)"
      ],
      "execution_count": null,
      "outputs": []
    },
    {
      "cell_type": "markdown",
      "metadata": {
        "id": "GPjl3Fp-pBw-"
      },
      "source": [
        "ESERCIZIO 9"
      ]
    },
    {
      "cell_type": "code",
      "metadata": {
        "id": "eHEL1R73pAQ0"
      },
      "source": [
        "# inizializziamo la variabile\n",
        "numero = int(input(\"inserisci il numero: \"))\n",
        "\n",
        "# creiamo la nostra funzione\n",
        "def funzione(numero):\n",
        "\n",
        "  # verifichiamo se un numero è pari o meno con gli if\n",
        "  if numero % 2 == 0:\n",
        "    print(\"pari\")\n",
        "    return True\n",
        "  elif numero % 2 == 1:\n",
        "    print(\"dispari\")\n",
        "    return False\n",
        "\n",
        "# applichiamo la funzione alla variabile \"numero\"\n",
        "funzione(numero)"
      ],
      "execution_count": null,
      "outputs": []
    }
  ]
}