{
  "nbformat": 4,
  "nbformat_minor": 0,
  "metadata": {
    "colab": {
      "name": "corrVerifica3.ipynb",
      "provenance": []
    },
    "kernelspec": {
      "name": "python3",
      "display_name": "Python 3"
    },
    "language_info": {
      "name": "python"
    }
  },
  "cells": [
    {
      "cell_type": "markdown",
      "metadata": {
        "id": "K5ejLAaTJkOo"
      },
      "source": [
        "ES 1"
      ]
    },
    {
      "cell_type": "code",
      "metadata": {
        "id": "U7i1xTXoJju5"
      },
      "source": [
        "import math\n",
        "x, y = int(input(\"inserire la prima x: \")), int(input(\"inserire la prima y: \"))\n",
        "x1, y1 = int(input(\"inserire la seconda x: \")), int(input(\"inserire la seconda y: \"))\n",
        "print(math.sqrt((x1-x)**2 + (y1 - y)**2))"
      ],
      "execution_count": null,
      "outputs": []
    },
    {
      "cell_type": "markdown",
      "metadata": {
        "id": "T-AmNkC3JnV3"
      },
      "source": [
        "ES 2"
      ]
    },
    {
      "cell_type": "code",
      "metadata": {
        "id": "YuJ6yxTCJjnb"
      },
      "source": [
        "x, y, z = int(input(\"inserire la prima x: \")), int(input(\"inserire la prima y: \")), int(input(\"inserire la prima z: \"))\n",
        "if x+y > z and x+z > y and z+y > x:\n",
        "  print(\"si, è un triangolo\")\n",
        "else:\n",
        "  print(\"no, non è un triangolo\")"
      ],
      "execution_count": null,
      "outputs": []
    },
    {
      "cell_type": "markdown",
      "metadata": {
        "id": "pnnkMDbEJo0A"
      },
      "source": [
        "ES 3"
      ]
    },
    {
      "cell_type": "code",
      "metadata": {
        "id": "KppS5AQuJjhI"
      },
      "source": [
        "lst = [int(n) for n in input(\"inserisci numeri: \").split()]\n",
        "val = int(input(\"inserisci valore: \"))\n",
        "i = 0\n",
        "lst1 = []\n",
        "while i < len(lst) and val != lst[i]:\n",
        "  lst1.append(lst[i])\n",
        "  i += 1\n",
        "  print(i)\n",
        "print(lst)\n",
        "print(lst1)"
      ],
      "execution_count": null,
      "outputs": []
    },
    {
      "cell_type": "markdown",
      "metadata": {
        "id": "Yt6dqZtjJ1QY"
      },
      "source": [
        "ES 4"
      ]
    },
    {
      "cell_type": "code",
      "metadata": {
        "id": "Mwou_N9_Jjap"
      },
      "source": [
        "lst = [int(n) for n in input(\"inserisci numeri: \").split()]\n",
        "lst1 = list(set(lst))\n",
        "print(lst)\n",
        "print(lst1)\n",
        "print (len(lst) != len(lst1))"
      ],
      "execution_count": null,
      "outputs": []
    },
    {
      "cell_type": "markdown",
      "metadata": {
        "id": "K80k9S0NJ23B"
      },
      "source": [
        "ES 5"
      ]
    },
    {
      "cell_type": "code",
      "metadata": {
        "id": "wq4aKJYYJjUg"
      },
      "source": [
        "lst = [int(n) for n in input(\"inserisci numeri: \").split()]\n",
        "pos = int(input(\"inserire una posizione: \"))\n",
        "lst1 = lst[pos:]\n",
        "lst2 = lst[:pos]\n",
        "print(lst1)\n",
        "print(lst2)"
      ],
      "execution_count": null,
      "outputs": []
    },
    {
      "cell_type": "markdown",
      "metadata": {
        "id": "9yQIBBzxJ4wo"
      },
      "source": [
        "ES 6"
      ]
    },
    {
      "cell_type": "code",
      "metadata": {
        "id": "Fpd1iEMgJjDR"
      },
      "source": [
        "lst = [1, 2, 3, 4, 5]\n",
        "lst1 = [40, 10, 4]\n",
        "print(set(lst1).issubset(set(lst)))"
      ],
      "execution_count": null,
      "outputs": []
    },
    {
      "cell_type": "markdown",
      "metadata": {
        "id": "foY8RWhJJ6dA"
      },
      "source": [
        "ES 7"
      ]
    },
    {
      "cell_type": "code",
      "metadata": {
        "id": "Q0HyfSo2Ji_x"
      },
      "source": [
        "n = int(input(\"Inserisci numero: \")) \n",
        "tabellina = {} \n",
        "for i in range(1, 11): \n",
        "    tabellina[str(n) + \" x \" + str(i)] = n * i\n",
        "print(tabellina)"
      ],
      "execution_count": null,
      "outputs": []
    },
    {
      "cell_type": "markdown",
      "metadata": {
        "id": "yzkgT4dNJ9Hw"
      },
      "source": [
        "ES 8"
      ]
    },
    {
      "cell_type": "code",
      "metadata": {
        "id": "tefGj7zTJigS"
      },
      "source": [
        "import collections\n",
        "frase = input()\n",
        "words = frase.split()\n",
        "contaParole = collections.Counter(words)\n",
        "print(contaParole)\n",
        "for parola, counter in contaParole.items():\n",
        "    print('la parola ' + str(parola) + ' compare ' + str(counter) +' volte.')"
      ],
      "execution_count": null,
      "outputs": []
    },
    {
      "cell_type": "markdown",
      "metadata": {
        "id": "nlVbBNXMJ_Dg"
      },
      "source": [
        "ES 9"
      ]
    },
    {
      "cell_type": "code",
      "metadata": {
        "id": "QKrMFjSmJfwD"
      },
      "source": [
        "voti = [{ \"cognome\": \"Bianchi\", \"Voto\": 6, \"telefono\":\"3294725666\" },{ \"cognome\": \"Neri\", \"Voto\": 8 },{ \"cognome\": \"Gialli\", \"Voto\": 3 },{ \"cognome\": \"Rossi\", \"Voto\": 4 },{ \"cognome\": \"Verdi\", \"Voto\": 10 }]\n",
        "for i in voti:\n",
        "    if i['Voto'] >= 6:\n",
        "        print(i[\"cognome\"])"
      ],
      "execution_count": null,
      "outputs": []
    }
  ]
}