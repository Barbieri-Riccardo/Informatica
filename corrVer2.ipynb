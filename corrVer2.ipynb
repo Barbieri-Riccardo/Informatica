{
  "nbformat": 4,
  "nbformat_minor": 0,
  "metadata": {
    "colab": {
      "name": "corrVer2",
      "provenance": []
    },
    "kernelspec": {
      "name": "python3",
      "display_name": "Python 3"
    },
    "language_info": {
      "name": "python"
    }
  },
  "cells": [
    {
      "cell_type": "markdown",
      "metadata": {
        "id": "dCn67bIKaMkC"
      },
      "source": [
        "ESERCIZIO 1"
      ]
    },
    {
      "cell_type": "code",
      "metadata": {
        "id": "MR5tCZ35Mv8F"
      },
      "source": [
        "lst = [\"roma\",\"milano\",\"campobasso\"]\n",
        "print(sorted(lst, key=len))\n",
        "print(sorted(lst,key=len,reverse=True))"
      ],
      "execution_count": null,
      "outputs": []
    },
    {
      "cell_type": "markdown",
      "metadata": {
        "id": "nvSUpwalaPsR"
      },
      "source": [
        "ESERCIZIO 2"
      ]
    },
    {
      "cell_type": "code",
      "metadata": {
        "id": "8sPt0yiENOcD"
      },
      "source": [
        "lst = [\"roma\",\"milano\",\"campobasso\",\"milano\"]\n",
        "print(list(set(lst)))"
      ],
      "execution_count": null,
      "outputs": []
    },
    {
      "cell_type": "markdown",
      "metadata": {
        "id": "Tb55BGXBaRwO"
      },
      "source": [
        "ESERCIZIO 3"
      ]
    },
    {
      "cell_type": "code",
      "metadata": {
        "id": "dKfcfRacNu5P"
      },
      "source": [
        "lst = [\"roma\",\"milano\",\"campobasso\"]\n",
        "lst1 = [\"torino\",\"genova\",\"milano\"] \n",
        "cittaComuni = list(set(lst).intersection(set(lst1)))\n",
        "print(cittaComuni)"
      ],
      "execution_count": null,
      "outputs": []
    },
    {
      "cell_type": "markdown",
      "metadata": {
        "id": "fRFgt09-aT2l"
      },
      "source": [
        "ESERCIZIO 4"
      ]
    },
    {
      "cell_type": "code",
      "metadata": {
        "id": "P5TlIPZVYXJw"
      },
      "source": [
        "d = {'Lecco': 'Lombardia', 'Bari':'Puglia', 'Roma':'Lazio', 'Pisa':'Toscana', 'Como':'Lombardia', 'Torino':'Piemonte'}\n",
        "for i in d:\n",
        "    print(i,\"si trova in\", d[i])"
      ],
      "execution_count": null,
      "outputs": []
    },
    {
      "cell_type": "markdown",
      "metadata": {
        "id": "SYnP52tRaWPZ"
      },
      "source": [
        "ESERCIZIO 5"
      ]
    },
    {
      "cell_type": "code",
      "metadata": {
        "id": "h6z5K89ZaXwK"
      },
      "source": [
        "citta = input(\"inserire città: \")\n",
        "d = {'Lecco':'Lombardia','Bari':'Puglia','Roma':'Lazio','Pisa':'Toscana','Como':'Lombardia','Torino':'Piemonte'}\n",
        "print(citta + \" => \" + d.get(citta))"
      ],
      "execution_count": null,
      "outputs": []
    },
    {
      "cell_type": "markdown",
      "metadata": {
        "id": "dLeKo8I2aYMQ"
      },
      "source": [
        "ESERCIZIO 6"
      ]
    },
    {
      "cell_type": "code",
      "metadata": {
        "id": "ZdD3khGXaaIJ"
      },
      "source": [
        "lst = []\n",
        "for i in range (0, 101, 2):\n",
        "  lst.append(i)\n",
        "print(lst)"
      ],
      "execution_count": null,
      "outputs": []
    },
    {
      "cell_type": "markdown",
      "metadata": {
        "id": "bV-zYRcwaas2"
      },
      "source": [
        "ESERCIZIO 7"
      ]
    },
    {
      "cell_type": "code",
      "metadata": {
        "id": "iI_z0Prtadzc"
      },
      "source": [
        "lst = []\n",
        "lst1 = []\n",
        "x = int(input(\"inserire primo estremo: \"))\n",
        "y = int(input(\"inserire secondo estremo: \"))\n",
        "for i in range(x, y):\n",
        "  lst.append(i)\n",
        "  if (i % 3 == 0):\n",
        "     lst1.append(i)\n",
        "print(lst) \n",
        "print(lst1)"
      ],
      "execution_count": null,
      "outputs": []
    },
    {
      "cell_type": "markdown",
      "metadata": {
        "id": "7Pf-MFQHaeYa"
      },
      "source": [
        "ESERCIZIO 8"
      ]
    },
    {
      "cell_type": "code",
      "metadata": {
        "id": "0rObkH7nagAz"
      },
      "source": [
        "lst = []\n",
        "print(\"Inserire i numeri della lista: \")\n",
        "for i in range(0, 5):\n",
        "  num = int(input())\n",
        "  lst.append(num)\n",
        "if (lst[-1] * 5 != 0):\n",
        "   print(\"La tua lista non termina con uno zero\")\n",
        "else:\n",
        "   print(\"ok\")"
      ],
      "execution_count": null,
      "outputs": []
    },
    {
      "cell_type": "markdown",
      "metadata": {
        "id": "IJC3-NQKagfb"
      },
      "source": [
        "ESERCIZI 9"
      ]
    },
    {
      "cell_type": "code",
      "metadata": {
        "id": "EfF4U1Ubaip9"
      },
      "source": [
        "import random\n",
        "def incrementa(x):\n",
        "  x = x + 10\n",
        "  return x\n",
        "rndList = []\n",
        "List = []\n",
        "for i in range(0, 20):\n",
        "  n = random.randint(0, 101)\n",
        "  rndList.append(n)\n",
        "  m = incrementa(rndList[i])\n",
        "  List.append(m)\n",
        "print(rndList)\n",
        "print(List)"
      ],
      "execution_count": null,
      "outputs": []
    }
  ]
}