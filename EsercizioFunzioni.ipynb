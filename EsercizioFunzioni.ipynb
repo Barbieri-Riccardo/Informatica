{
  "nbformat": 4,
  "nbformat_minor": 0,
  "metadata": {
    "colab": {
      "name": "EsercizioFunzioni.ipynb",
      "provenance": []
    },
    "kernelspec": {
      "name": "python3",
      "display_name": "Python 3"
    },
    "language_info": {
      "name": "python"
    }
  },
  "cells": [
    {
      "cell_type": "markdown",
      "metadata": {
        "id": "iY0e5MdnsxZU"
      },
      "source": [
        "ES 1"
      ]
    },
    {
      "cell_type": "code",
      "metadata": {
        "id": "lDobKBcVscEj"
      },
      "source": [
        "def media(x,y):\n",
        "  return (x + y) /2\n",
        "x,y = int(input()),int(input())\n",
        "media(x,y)"
      ],
      "execution_count": null,
      "outputs": []
    },
    {
      "cell_type": "markdown",
      "metadata": {
        "id": "NfE4vyb1s0kH"
      },
      "source": [
        "ES 2"
      ]
    },
    {
      "cell_type": "code",
      "metadata": {
        "id": "9t2Z2-Lzs2SY"
      },
      "source": [
        "def piuCorta(list1,list2):\n",
        "  if len(list1) >len(list1):\n",
        "    return list1\n",
        "  else:\n",
        "    return list2\n",
        "list1 = input().split()\n",
        "list2 = input().split()\n",
        "piuCorta(list1,list2)"
      ],
      "execution_count": null,
      "outputs": []
    },
    {
      "cell_type": "markdown",
      "metadata": {
        "id": "h0JSaeeAs2jq"
      },
      "source": [
        "ES 3"
      ]
    },
    {
      "cell_type": "code",
      "metadata": {
        "id": "Woi3ki2os315"
      },
      "source": [
        "def costruiciLista(x,y):\n",
        "  res = []\n",
        "  while(x < y+1 ):\n",
        "      res.append(x)\n",
        "      x += 1\n",
        "  return res\n",
        "x,y = int(input()),int(input())\n",
        "costruiciLista(x,y)"
      ],
      "execution_count": null,
      "outputs": []
    },
    {
      "cell_type": "markdown",
      "metadata": {
        "id": "r90GMB7xs4Rb"
      },
      "source": [
        "ES 4"
      ]
    },
    {
      "cell_type": "code",
      "metadata": {
        "id": "1cOSgh7Bs6ML"
      },
      "source": [
        "def valoreAssoluto(lista):\n",
        "  res = abs(n)\n",
        "  return res\n",
        "lista = list(map(int,input().split()))\n",
        "lst = []\n",
        "for n in lista:\n",
        "  lst.append(valoreAssoluto(n))\n",
        "print(lst)"
      ],
      "execution_count": null,
      "outputs": []
    },
    {
      "cell_type": "markdown",
      "metadata": {
        "id": "fzbSOJFRs6mR"
      },
      "source": [
        "ES 5"
      ]
    },
    {
      "cell_type": "code",
      "metadata": {
        "id": "_pj6Qtn7s79L"
      },
      "source": [
        "def scambio(alist):\n",
        "  return alist[::-1]\n",
        "lista = [3,4,7,4,9,12,145,18]\n",
        "scambio(lista)"
      ],
      "execution_count": null,
      "outputs": []
    },
    {
      "cell_type": "markdown",
      "metadata": {
        "id": "fY1kUQ4Ds8Te"
      },
      "source": [
        "ES 6"
      ]
    },
    {
      "cell_type": "code",
      "metadata": {
        "id": "Yio52Cs1s9f8"
      },
      "source": [
        "x,y = int(input()),int(input())\n",
        "somma = lambda x, y : x + y\n",
        "somma(x,y)"
      ],
      "execution_count": null,
      "outputs": []
    },
    {
      "cell_type": "markdown",
      "metadata": {
        "id": "8noNCwP7s9_T"
      },
      "source": [
        "ES 7"
      ]
    },
    {
      "cell_type": "code",
      "metadata": {
        "id": "f5oApYZBs-6p"
      },
      "source": [
        "c = list(map(lambda x:x+10, L))\n",
        "print(c)"
      ],
      "execution_count": null,
      "outputs": []
    },
    {
      "cell_type": "markdown",
      "metadata": {
        "id": "ZHtXuVLss_Vi"
      },
      "source": [
        "ES 8"
      ]
    },
    {
      "cell_type": "code",
      "metadata": {
        "id": "8MCxcG5EtAWV"
      },
      "source": [
        "L = list(map(int, input().split()))\n",
        "G = list(map(lambda x: x if x>0 else 0, L))\n",
        "print(G)"
      ],
      "execution_count": null,
      "outputs": []
    },
    {
      "cell_type": "markdown",
      "metadata": {
        "id": "BavrSt1EtA1P"
      },
      "source": [
        "ES 9"
      ]
    },
    {
      "cell_type": "code",
      "metadata": {
        "id": "kxMu7ciNtCA1"
      },
      "source": [
        "recursive_lambda = (lambda func: lambda *args: func(func, *args))\n",
        "print(recursive_lambda(lambda self, x: x * self(self, x - 1) if x > 0 else 1)(6))"
      ],
      "execution_count": null,
      "outputs": []
    }
  ]
}